{
 "cells": [
  {
   "cell_type": "markdown",
   "metadata": {},
   "source": [
    "### Single Layer Perceptron AND Gate"
   ]
  },
  {
   "cell_type": "code",
   "execution_count": 1,
   "metadata": {},
   "outputs": [
    {
     "name": "stdout",
     "output_type": "stream",
     "text": [
      "Input: [0 0], Predicted Output: 0\n",
      "Input: [0 1], Predicted Output: 0\n",
      "Input: [1 0], Predicted Output: 0\n",
      "Input: [1 1], Predicted Output: 1\n"
     ]
    }
   ],
   "source": [
    "import numpy as np\n",
    "\n",
    "def step_function(x):\n",
    "    return np.where(x >= 0, 1, 0)\n",
    "\n",
    "class Perceptron:\n",
    "    def __init__(self, input_size, learning_rate=0.1, epochs=10):\n",
    "        self.weights = np.zeros(input_size + 1) \n",
    "        self.learning_rate = learning_rate\n",
    "        self.epochs = epochs\n",
    "\n",
    "    def predict(self, x):\n",
    "        x_with_bias = np.insert(x, 0, 1) \n",
    "        weighted_sum = np.dot(x_with_bias, self.weights)\n",
    "        return step_function(weighted_sum)\n",
    "\n",
    "    def train(self, X, y):\n",
    "        for _ in range(self.epochs):\n",
    "            for inputs, label in zip(X, y):\n",
    "                prediction = self.predict(inputs)\n",
    "                error = label - prediction\n",
    "                self.weights += self.learning_rate * error * np.insert(inputs, 0, 1)\n",
    "\n",
    "X = np.array([[0, 0], [0, 1], [1, 0], [1, 1]]) \n",
    "y = np.array([0, 0, 0, 1]) \n",
    "perceptron = Perceptron(input_size=2)\n",
    "perceptron.train(X, y)\n",
    "for inputs in X:\n",
    "    print(f\"Input: {inputs}, Predicted Output: {perceptron.predict(inputs)}\")"
   ]
  },
  {
   "cell_type": "markdown",
   "metadata": {},
   "source": [
    "### Single Layer Perceptron AND Gate"
   ]
  },
  {
   "cell_type": "code",
   "execution_count": 3,
   "metadata": {},
   "outputs": [
    {
     "name": "stdout",
     "output_type": "stream",
     "text": [
      "Input: [0 0], Predicted Output: 0\n",
      "Input: [0 1], Predicted Output: 1\n",
      "Input: [1 0], Predicted Output: 1\n",
      "Input: [1 1], Predicted Output: 1\n"
     ]
    }
   ],
   "source": [
    "import numpy as np\n",
    "\n",
    "def step_function(x):\n",
    "    return np.where(x >= 0, 1, 0)\n",
    "\n",
    "class Perceptron:\n",
    "    def __init__(self, input_size: int, learning_rate: float = 0.1, epochs: int = 10) -> None:\n",
    "        self.weights = np.zeros(input_size + 1)  # +1 for the bias term\n",
    "        self.learning_rate = learning_rate\n",
    "        self.epochs = epochs\n",
    "\n",
    "    def predict(self, x: np.ndarray) -> int:\n",
    "        x_with_bias = np.insert(x, 0, 1)  # Add bias to the input\n",
    "        weighted_sum = np.dot(x_with_bias, self.weights)\n",
    "        return step_function(weighted_sum)\n",
    "\n",
    "    def train(self, X: np.ndarray, y: np.ndarray) -> None:\n",
    "        for _ in range(self.epochs):\n",
    "            for inputs, label in zip(X, y):\n",
    "                prediction = self.predict(inputs)\n",
    "                error = label - prediction\n",
    "                self.weights += self.learning_rate * error * np.insert(inputs, 0, 1)  # Update weights\n",
    "\n",
    "# OR gate input and output\n",
    "X = np.array([[0, 0], [0, 1], [1, 0], [1, 1]])  # Inputs for OR gate\n",
    "y = np.array([0, 1, 1, 1])  # Expected output for OR gate\n",
    "\n",
    "perceptron = Perceptron(input_size=2)\n",
    "perceptron.train(X, y)\n",
    "for inputs in X:\n",
    "    print(f\"Input: {inputs}, Predicted Output: {perceptron.predict(inputs)}\")"
   ]
  },
  {
   "cell_type": "markdown",
   "metadata": {},
   "source": [
    "## Using Sklearn's Perceptron"
   ]
  },
  {
   "cell_type": "markdown",
   "metadata": {},
   "source": [
    "### AND Gate"
   ]
  },
  {
   "cell_type": "code",
   "execution_count": 2,
   "metadata": {},
   "outputs": [
    {
     "name": "stdout",
     "output_type": "stream",
     "text": [
      "Accuracy: 1.0\n",
      "Weights: [[3. 2.]]\n",
      "Bias: [-4.]\n",
      "Input: [0 0], Predicted Output: 0\n",
      "Input: [0 1], Predicted Output: 0\n",
      "Input: [1 0], Predicted Output: 0\n",
      "Input: [1 1], Predicted Output: 1\n"
     ]
    }
   ],
   "source": [
    "from sklearn.linear_model import Perceptron\n",
    "from sklearn.metrics import accuracy_score\n",
    "import numpy as np\n",
    "\n",
    "# Extended data for AND gate\n",
    "X = np.array([[0, 0], [0, 1], [1, 0], [1, 1],\n",
    "              [0, 0], [1, 1], [1, 0], [0, 1],\n",
    "              [1, 1], [1, 0], [0, 0], [0, 1]]) \n",
    "y = np.array([0, 0, 0, 1, \n",
    "              0, 1, 0, 0, \n",
    "              1, 0, 0, 0]) \n",
    "\n",
    "perceptron = Perceptron(max_iter=1000, tol=1e-3)\n",
    "\n",
    "perceptron.fit(X, y)\n",
    "\n",
    "# Predict on the same data\n",
    "y_pred = perceptron.predict(X)\n",
    "\n",
    "accuracy = accuracy_score(y, y_pred)\n",
    "\n",
    "print(\"Accuracy:\", accuracy)\n",
    "print(\"Weights:\", perceptron.coef_)\n",
    "print(\"Bias:\", perceptron.intercept_)\n",
    "\n",
    "# Test the model with all possible AND gate inputs\n",
    "for inputs in np.array([[0, 0], [0, 1], [1, 0], [1, 1]]):\n",
    "    print(f\"Input: {inputs}, Predicted Output: {perceptron.predict([inputs])[0]}\")"
   ]
  },
  {
   "cell_type": "markdown",
   "metadata": {},
   "source": [
    "### OR Gate"
   ]
  },
  {
   "cell_type": "code",
   "execution_count": 4,
   "metadata": {},
   "outputs": [
    {
     "name": "stdout",
     "output_type": "stream",
     "text": [
      "Accuracy: 1.0\n",
      "Weights: [[2. 2.]]\n",
      "Bias: [-1.]\n",
      "Input: [0 0], Predicted Output: 0\n",
      "Input: [0 1], Predicted Output: 1\n",
      "Input: [1 0], Predicted Output: 1\n",
      "Input: [1 1], Predicted Output: 1\n"
     ]
    }
   ],
   "source": [
    "from sklearn.linear_model import Perceptron\n",
    "from sklearn.metrics import accuracy_score\n",
    "import numpy as np\n",
    "\n",
    "# Extended data for OR gate\n",
    "X = np.array([[0, 0], [0, 1], [1, 0], [1, 1],\n",
    "              [0, 0], [1, 1], [1, 0], [0, 1],\n",
    "              [1, 1], [1, 0], [0, 0], [0, 1]])\n",
    "y = np.array([0, 1, 1, 1, \n",
    "              0, 1, 1, 1, \n",
    "              1, 1, 0, 1])\n",
    "\n",
    "# Initialize and train the Perceptron for OR gate\n",
    "perceptron = Perceptron(max_iter=1000, tol=1e-3)\n",
    "perceptron.fit(X, y)\n",
    "\n",
    "# Predict on the same data\n",
    "y_pred = perceptron.predict(X)\n",
    "accuracy = accuracy_score(y, y_pred)\n",
    "\n",
    "print(\"Accuracy:\", accuracy)\n",
    "print(\"Weights:\", perceptron.coef_)\n",
    "print(\"Bias:\", perceptron.intercept_)\n",
    "\n",
    "# Test the model with all possible OR gate inputs\n",
    "for inputs in np.array([[0, 0], [0, 1], [1, 0], [1, 1]]):\n",
    "    print(f\"Input: {inputs}, Predicted Output: {perceptron.predict([inputs])[0]}\")"
   ]
  }
 ],
 "metadata": {
  "kernelspec": {
   "display_name": "ML",
   "language": "python",
   "name": "python3"
  },
  "language_info": {
   "codemirror_mode": {
    "name": "ipython",
    "version": 3
   },
   "file_extension": ".py",
   "mimetype": "text/x-python",
   "name": "python",
   "nbconvert_exporter": "python",
   "pygments_lexer": "ipython3",
   "version": "3.12.4"
  }
 },
 "nbformat": 4,
 "nbformat_minor": 2
}
